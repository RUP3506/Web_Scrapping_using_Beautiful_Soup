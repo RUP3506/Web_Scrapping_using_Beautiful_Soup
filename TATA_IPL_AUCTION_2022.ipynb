{
 "cells": [
  {
   "cell_type": "code",
   "execution_count": 1,
   "id": "4b5ee019",
   "metadata": {},
   "outputs": [],
   "source": [
    "import requests\n",
    "import pandas as pd\n",
    "from bs4 import BeautifulSoup"
   ]
  },
  {
   "cell_type": "code",
   "execution_count": 10,
   "id": "857ebb75",
   "metadata": {},
   "outputs": [],
   "source": [
    "url = \"https://www.iplt20.com/auction/2022\""
   ]
  },
  {
   "cell_type": "code",
   "execution_count": 11,
   "id": "b53686b3",
   "metadata": {},
   "outputs": [
    {
     "data": {
      "text/plain": [
       "200"
      ]
     },
     "execution_count": 11,
     "metadata": {},
     "output_type": "execute_result"
    }
   ],
   "source": [
    "req = requests.get(url)\n",
    "# now lets check the status code \n",
    "req.status_code"
   ]
  },
  {
   "cell_type": "code",
   "execution_count": 13,
   "id": "2df9a97d",
   "metadata": {},
   "outputs": [
    {
     "data": {
      "text/plain": [
       "'<!DOCTYPE html>\\n<html lang=\"en\">\\n<head>\\n<!-- Google Tag Manager -->\\n<script>(function(w,d,s,l,i){w[l]=w[l]||[];w[l].push({\\'gtm.start\\':\\nnew Date().getTime(),event:\\'gtm.js\\'});var f=d.getElementsByTagNam'"
      ]
     },
     "execution_count": 13,
     "metadata": {},
     "output_type": "execute_result"
    }
   ],
   "source": [
    "req.text[:200]"
   ]
  },
  {
   "cell_type": "code",
   "execution_count": 14,
   "id": "d61db83f",
   "metadata": {},
   "outputs": [],
   "source": [
    "soup = BeautifulSoup(req.text,'lxml')"
   ]
  },
  {
   "cell_type": "code",
   "execution_count": 17,
   "id": "a28926df",
   "metadata": {},
   "outputs": [],
   "source": [
    "table = soup.find('table',class_=\"ih-td-tab auction-tbl\")"
   ]
  },
  {
   "cell_type": "code",
   "execution_count": 18,
   "id": "cd4ebd64",
   "metadata": {},
   "outputs": [
    {
     "name": "stdout",
     "output_type": "stream",
     "text": [
      "['TEAM', 'FUNDS REMAINING', 'OVERSEAS PLAYERS ', 'TOTAL PLAYERS']\n"
     ]
    }
   ],
   "source": [
    "# now lets find the column names\n",
    "name = table.find_all('th')\n",
    "title = []\n",
    "for i in name:\n",
    "    title.append(i.text)\n",
    "print(title)"
   ]
  },
  {
   "cell_type": "code",
   "execution_count": 19,
   "id": "aeb420d8",
   "metadata": {},
   "outputs": [],
   "source": [
    "# for rows \n",
    "df = pd.DataFrame(columns=title)\n",
    "l=0\n",
    "\n",
    "body = table.find_all('tr')\n",
    "\n",
    "for i in body[1:]:\n",
    "    row = i.find_all('td')\n",
    "    rows = [td.text for td in row]\n",
    "    df.loc[l] = rows\n",
    "    l +=1"
   ]
  },
  {
   "cell_type": "code",
   "execution_count": 21,
   "id": "93115cdc",
   "metadata": {},
   "outputs": [
    {
     "data": {
      "text/html": [
       "<div>\n",
       "<style scoped>\n",
       "    .dataframe tbody tr th:only-of-type {\n",
       "        vertical-align: middle;\n",
       "    }\n",
       "\n",
       "    .dataframe tbody tr th {\n",
       "        vertical-align: top;\n",
       "    }\n",
       "\n",
       "    .dataframe thead th {\n",
       "        text-align: right;\n",
       "    }\n",
       "</style>\n",
       "<table border=\"1\" class=\"dataframe\">\n",
       "  <thead>\n",
       "    <tr style=\"text-align: right;\">\n",
       "      <th></th>\n",
       "      <th>TEAM</th>\n",
       "      <th>FUNDS REMAINING</th>\n",
       "      <th>OVERSEAS PLAYERS</th>\n",
       "      <th>TOTAL PLAYERS</th>\n",
       "    </tr>\n",
       "  </thead>\n",
       "  <tbody>\n",
       "    <tr>\n",
       "      <th>0</th>\n",
       "      <td>\\n\\n\\n\\n\\nChennai Super Kings\\n\\n</td>\n",
       "      <td>₹2,95,00,000</td>\n",
       "      <td>8</td>\n",
       "      <td>25</td>\n",
       "    </tr>\n",
       "    <tr>\n",
       "      <th>1</th>\n",
       "      <td>\\n\\n\\n\\n\\nDelhi Capitals\\n\\n</td>\n",
       "      <td>₹10,00,000</td>\n",
       "      <td>7</td>\n",
       "      <td>24</td>\n",
       "    </tr>\n",
       "    <tr>\n",
       "      <th>2</th>\n",
       "      <td>\\n\\n\\n\\n\\nGujarat Titans\\n\\n</td>\n",
       "      <td>₹15,00,000</td>\n",
       "      <td>8</td>\n",
       "      <td>23</td>\n",
       "    </tr>\n",
       "    <tr>\n",
       "      <th>3</th>\n",
       "      <td>\\n\\n\\n\\n\\nKolkata Knight Riders\\n\\n</td>\n",
       "      <td>₹45,00,000</td>\n",
       "      <td>8</td>\n",
       "      <td>25</td>\n",
       "    </tr>\n",
       "    <tr>\n",
       "      <th>4</th>\n",
       "      <td>\\n\\n\\n\\n\\nLucknow Super Giants\\n\\n</td>\n",
       "      <td>₹0</td>\n",
       "      <td>7</td>\n",
       "      <td>21</td>\n",
       "    </tr>\n",
       "  </tbody>\n",
       "</table>\n",
       "</div>"
      ],
      "text/plain": [
       "                                  TEAM FUNDS REMAINING OVERSEAS PLAYERS   \\\n",
       "0    \\n\\n\\n\\n\\nChennai Super Kings\\n\\n    ₹2,95,00,000                 8   \n",
       "1         \\n\\n\\n\\n\\nDelhi Capitals\\n\\n      ₹10,00,000                 7   \n",
       "2         \\n\\n\\n\\n\\nGujarat Titans\\n\\n      ₹15,00,000                 8   \n",
       "3  \\n\\n\\n\\n\\nKolkata Knight Riders\\n\\n      ₹45,00,000                 8   \n",
       "4   \\n\\n\\n\\n\\nLucknow Super Giants\\n\\n              ₹0                 7   \n",
       "\n",
       "  TOTAL PLAYERS  \n",
       "0            25  \n",
       "1            24  \n",
       "2            23  \n",
       "3            25  \n",
       "4            21  "
      ]
     },
     "execution_count": 21,
     "metadata": {},
     "output_type": "execute_result"
    }
   ],
   "source": [
    "df.head(5)"
   ]
  },
  {
   "cell_type": "code",
   "execution_count": 22,
   "id": "bbb6cdc0",
   "metadata": {},
   "outputs": [],
   "source": [
    "# Now we have to clean the Team column \n",
    "def preprocess(data):\n",
    "    return data[5:-2]\n",
    "df['TEAM'] = df['TEAM'].apply(lambda x: preprocess(x))"
   ]
  },
  {
   "cell_type": "code",
   "execution_count": 23,
   "id": "c9404a36",
   "metadata": {},
   "outputs": [
    {
     "data": {
      "text/html": [
       "<div>\n",
       "<style scoped>\n",
       "    .dataframe tbody tr th:only-of-type {\n",
       "        vertical-align: middle;\n",
       "    }\n",
       "\n",
       "    .dataframe tbody tr th {\n",
       "        vertical-align: top;\n",
       "    }\n",
       "\n",
       "    .dataframe thead th {\n",
       "        text-align: right;\n",
       "    }\n",
       "</style>\n",
       "<table border=\"1\" class=\"dataframe\">\n",
       "  <thead>\n",
       "    <tr style=\"text-align: right;\">\n",
       "      <th></th>\n",
       "      <th>TEAM</th>\n",
       "      <th>FUNDS REMAINING</th>\n",
       "      <th>OVERSEAS PLAYERS</th>\n",
       "      <th>TOTAL PLAYERS</th>\n",
       "    </tr>\n",
       "  </thead>\n",
       "  <tbody>\n",
       "    <tr>\n",
       "      <th>0</th>\n",
       "      <td>Chennai Super Kings</td>\n",
       "      <td>₹2,95,00,000</td>\n",
       "      <td>8</td>\n",
       "      <td>25</td>\n",
       "    </tr>\n",
       "    <tr>\n",
       "      <th>1</th>\n",
       "      <td>Delhi Capitals</td>\n",
       "      <td>₹10,00,000</td>\n",
       "      <td>7</td>\n",
       "      <td>24</td>\n",
       "    </tr>\n",
       "    <tr>\n",
       "      <th>2</th>\n",
       "      <td>Gujarat Titans</td>\n",
       "      <td>₹15,00,000</td>\n",
       "      <td>8</td>\n",
       "      <td>23</td>\n",
       "    </tr>\n",
       "    <tr>\n",
       "      <th>3</th>\n",
       "      <td>Kolkata Knight Riders</td>\n",
       "      <td>₹45,00,000</td>\n",
       "      <td>8</td>\n",
       "      <td>25</td>\n",
       "    </tr>\n",
       "    <tr>\n",
       "      <th>4</th>\n",
       "      <td>Lucknow Super Giants</td>\n",
       "      <td>₹0</td>\n",
       "      <td>7</td>\n",
       "      <td>21</td>\n",
       "    </tr>\n",
       "  </tbody>\n",
       "</table>\n",
       "</div>"
      ],
      "text/plain": [
       "                    TEAM FUNDS REMAINING OVERSEAS PLAYERS  TOTAL PLAYERS\n",
       "0    Chennai Super Kings    ₹2,95,00,000                 8            25\n",
       "1         Delhi Capitals      ₹10,00,000                 7            24\n",
       "2         Gujarat Titans      ₹15,00,000                 8            23\n",
       "3  Kolkata Knight Riders      ₹45,00,000                 8            25\n",
       "4   Lucknow Super Giants              ₹0                 7            21"
      ]
     },
     "execution_count": 23,
     "metadata": {},
     "output_type": "execute_result"
    }
   ],
   "source": [
    "df.head(5)"
   ]
  },
  {
   "cell_type": "code",
   "execution_count": 24,
   "id": "ab08be24",
   "metadata": {},
   "outputs": [],
   "source": [
    "# now we will emport the file in csv format\n",
    "\n",
    "#df.to_csv('tata_ipl_auction.csv')"
   ]
  },
  {
   "cell_type": "code",
   "execution_count": null,
   "id": "a9eaac00",
   "metadata": {},
   "outputs": [],
   "source": []
  }
 ],
 "metadata": {
  "kernelspec": {
   "display_name": "Python 3 (ipykernel)",
   "language": "python",
   "name": "python3"
  },
  "language_info": {
   "codemirror_mode": {
    "name": "ipython",
    "version": 3
   },
   "file_extension": ".py",
   "mimetype": "text/x-python",
   "name": "python",
   "nbconvert_exporter": "python",
   "pygments_lexer": "ipython3",
   "version": "3.9.12"
  }
 },
 "nbformat": 4,
 "nbformat_minor": 5
}
