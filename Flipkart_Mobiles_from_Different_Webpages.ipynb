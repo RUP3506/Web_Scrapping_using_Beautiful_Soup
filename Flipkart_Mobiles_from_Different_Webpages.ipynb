{
 "cells": [
  {
   "cell_type": "code",
   "execution_count": 1,
   "id": "c08f2619",
   "metadata": {},
   "outputs": [],
   "source": [
    "import requests\n",
    "import pandas as pd\n",
    "from bs4 import BeautifulSoup"
   ]
  },
  {
   "cell_type": "code",
   "execution_count": 2,
   "id": "27cf49eb",
   "metadata": {},
   "outputs": [],
   "source": [
    "url='https://www.flipkart.com/search?q=mobile+phones+under+30k&as=on&as-show=on&otracker=AS_Query_OrganicAutoSuggest_5_20_na_na_na&otracker1=AS_Query_OrganicAutoSuggest_5_20_na_na_na&as-pos=5&as-type=RECENT&suggestionId=mobile+phones+under+30k&requestId=da5d64a3-d3b9-4343-b89c-f8fed34abf98&as-searchtext=mobile%20phones%20under%2050'"
   ]
  },
  {
   "cell_type": "code",
   "execution_count": 3,
   "id": "ffb2f301",
   "metadata": {},
   "outputs": [
    {
     "data": {
      "text/plain": [
       "<Response [200]>"
      ]
     },
     "execution_count": 3,
     "metadata": {},
     "output_type": "execute_result"
    }
   ],
   "source": [
    "req = requests.get(url)\n",
    "req"
   ]
  },
  {
   "cell_type": "code",
   "execution_count": 4,
   "id": "100faf11",
   "metadata": {},
   "outputs": [],
   "source": [
    "soup = BeautifulSoup(req.text,'lxml')\n",
    "link = soup.find('a',class_= '_1LKTO3').get('href')\n",
    "# to build the complete link we need to use flipkart.com\n",
    "c_link = 'https://www.flipkart.com'+link"
   ]
  },
  {
   "cell_type": "code",
   "execution_count": 16,
   "id": "daa25ed4",
   "metadata": {},
   "outputs": [
    {
     "data": {
      "text/html": [
       "<div>\n",
       "<style scoped>\n",
       "    .dataframe tbody tr th:only-of-type {\n",
       "        vertical-align: middle;\n",
       "    }\n",
       "\n",
       "    .dataframe tbody tr th {\n",
       "        vertical-align: top;\n",
       "    }\n",
       "\n",
       "    .dataframe thead th {\n",
       "        text-align: right;\n",
       "    }\n",
       "</style>\n",
       "<table border=\"1\" class=\"dataframe\">\n",
       "  <thead>\n",
       "    <tr style=\"text-align: right;\">\n",
       "      <th></th>\n",
       "      <th>Mobile</th>\n",
       "      <th>Price</th>\n",
       "    </tr>\n",
       "  </thead>\n",
       "  <tbody>\n",
       "    <tr>\n",
       "      <th>0</th>\n",
       "      <td>SAMSUNG Galaxy M33 5G (Deep Ocean Blue, 128 GB)</td>\n",
       "      <td>17400</td>\n",
       "    </tr>\n",
       "    <tr>\n",
       "      <th>1</th>\n",
       "      <td>SAMSUNG Galaxy M33 5G (Mystique Green, 128 GB)</td>\n",
       "      <td>17379</td>\n",
       "    </tr>\n",
       "    <tr>\n",
       "      <th>2</th>\n",
       "      <td>REDMI Note 12 Pro 5G (Stardust Purple, 128 GB)</td>\n",
       "      <td>23999</td>\n",
       "    </tr>\n",
       "    <tr>\n",
       "      <th>3</th>\n",
       "      <td>SAMSUNG Galaxy S20 FE 5G (Cloud Navy, 128 GB)</td>\n",
       "      <td>28464</td>\n",
       "    </tr>\n",
       "    <tr>\n",
       "      <th>4</th>\n",
       "      <td>REDMI Note 12 Pro 5G (Stardust Purple, 256 GB)</td>\n",
       "      <td>26999</td>\n",
       "    </tr>\n",
       "    <tr>\n",
       "      <th>5</th>\n",
       "      <td>REDMI Note 12 Pro+ 5G (Obsidian Black, 256 GB)</td>\n",
       "      <td>29999</td>\n",
       "    </tr>\n",
       "    <tr>\n",
       "      <th>6</th>\n",
       "      <td>realme 10 Pro+ 5G (Nebula Blue, 128 GB)</td>\n",
       "      <td>25999</td>\n",
       "    </tr>\n",
       "    <tr>\n",
       "      <th>7</th>\n",
       "      <td>realme 10 Pro+ 5G (Hyperspace, 128 GB)</td>\n",
       "      <td>25999</td>\n",
       "    </tr>\n",
       "    <tr>\n",
       "      <th>8</th>\n",
       "      <td>REDMI Note 12 Pro+ 5G (Arctic White, 256 GB)</td>\n",
       "      <td>29999</td>\n",
       "    </tr>\n",
       "    <tr>\n",
       "      <th>9</th>\n",
       "      <td>REDMI Note 12 Pro 5G (Stardust Purple, 128 GB)</td>\n",
       "      <td>24999</td>\n",
       "    </tr>\n",
       "  </tbody>\n",
       "</table>\n",
       "</div>"
      ],
      "text/plain": [
       "                                            Mobile  Price\n",
       "0  SAMSUNG Galaxy M33 5G (Deep Ocean Blue, 128 GB)  17400\n",
       "1   SAMSUNG Galaxy M33 5G (Mystique Green, 128 GB)  17379\n",
       "2   REDMI Note 12 Pro 5G (Stardust Purple, 128 GB)  23999\n",
       "3    SAMSUNG Galaxy S20 FE 5G (Cloud Navy, 128 GB)  28464\n",
       "4   REDMI Note 12 Pro 5G (Stardust Purple, 256 GB)  26999\n",
       "5   REDMI Note 12 Pro+ 5G (Obsidian Black, 256 GB)  29999\n",
       "6          realme 10 Pro+ 5G (Nebula Blue, 128 GB)  25999\n",
       "7           realme 10 Pro+ 5G (Hyperspace, 128 GB)  25999\n",
       "8     REDMI Note 12 Pro+ 5G (Arctic White, 256 GB)  29999\n",
       "9   REDMI Note 12 Pro 5G (Stardust Purple, 128 GB)  24999"
      ]
     },
     "execution_count": 16,
     "metadata": {},
     "output_type": "execute_result"
    }
   ],
   "source": [
    "page =0\n",
    "mobile = []\n",
    "price = []\n",
    "dict = {'Mobile':mobile,'Price':price}\n",
    "\n",
    "while page<25:\n",
    "    url = c_link[:-1]+str(page)\n",
    "    req = requests.get(url)\n",
    "    soup = BeautifulSoup(req.text,'lxml')\n",
    "      \n",
    "    name = soup.find_all('div', class_=\"_4rR01T\")\n",
    "    for i in name:\n",
    "        dict[\"Mobile\"].append(i.text)\n",
    "        \n",
    "    prices = soup.find_all('div', class_=\"_30jeq3 _1_WHN1\")\n",
    "    for i in prices:\n",
    "        # we need to convert the string '26,999' to 26999(int)\n",
    "        dict[\"Price\"].append(int(i.text[1:].replace(\",\",\"\")))\n",
    "\n",
    "    page = page+1\n",
    "\n",
    "    \n",
    "df = pd.DataFrame(dict)\n",
    "df.head(10)"
   ]
  },
  {
   "cell_type": "code",
   "execution_count": 17,
   "id": "7cbd5e35",
   "metadata": {},
   "outputs": [
    {
     "data": {
      "text/plain": [
       "False    506\n",
       "True      94\n",
       "dtype: int64"
      ]
     },
     "execution_count": 17,
     "metadata": {},
     "output_type": "execute_result"
    }
   ],
   "source": [
    "df.duplicated().value_counts()"
   ]
  },
  {
   "cell_type": "code",
   "execution_count": 18,
   "id": "3a952329",
   "metadata": {},
   "outputs": [],
   "source": [
    "df.drop_duplicates(inplace=True)"
   ]
  },
  {
   "cell_type": "code",
   "execution_count": 19,
   "id": "6202217f",
   "metadata": {},
   "outputs": [
    {
     "data": {
      "text/html": [
       "<div>\n",
       "<style scoped>\n",
       "    .dataframe tbody tr th:only-of-type {\n",
       "        vertical-align: middle;\n",
       "    }\n",
       "\n",
       "    .dataframe tbody tr th {\n",
       "        vertical-align: top;\n",
       "    }\n",
       "\n",
       "    .dataframe thead th {\n",
       "        text-align: right;\n",
       "    }\n",
       "</style>\n",
       "<table border=\"1\" class=\"dataframe\">\n",
       "  <thead>\n",
       "    <tr style=\"text-align: right;\">\n",
       "      <th></th>\n",
       "      <th>Mobile</th>\n",
       "      <th>Price</th>\n",
       "    </tr>\n",
       "  </thead>\n",
       "  <tbody>\n",
       "    <tr>\n",
       "      <th>0</th>\n",
       "      <td>SAMSUNG Galaxy M33 5G (Deep Ocean Blue, 128 GB)</td>\n",
       "      <td>17400</td>\n",
       "    </tr>\n",
       "    <tr>\n",
       "      <th>1</th>\n",
       "      <td>SAMSUNG Galaxy M33 5G (Mystique Green, 128 GB)</td>\n",
       "      <td>17379</td>\n",
       "    </tr>\n",
       "    <tr>\n",
       "      <th>2</th>\n",
       "      <td>REDMI Note 12 Pro 5G (Stardust Purple, 128 GB)</td>\n",
       "      <td>23999</td>\n",
       "    </tr>\n",
       "    <tr>\n",
       "      <th>3</th>\n",
       "      <td>SAMSUNG Galaxy S20 FE 5G (Cloud Navy, 128 GB)</td>\n",
       "      <td>28464</td>\n",
       "    </tr>\n",
       "    <tr>\n",
       "      <th>4</th>\n",
       "      <td>REDMI Note 12 Pro 5G (Stardust Purple, 256 GB)</td>\n",
       "      <td>26999</td>\n",
       "    </tr>\n",
       "  </tbody>\n",
       "</table>\n",
       "</div>"
      ],
      "text/plain": [
       "                                            Mobile  Price\n",
       "0  SAMSUNG Galaxy M33 5G (Deep Ocean Blue, 128 GB)  17400\n",
       "1   SAMSUNG Galaxy M33 5G (Mystique Green, 128 GB)  17379\n",
       "2   REDMI Note 12 Pro 5G (Stardust Purple, 128 GB)  23999\n",
       "3    SAMSUNG Galaxy S20 FE 5G (Cloud Navy, 128 GB)  28464\n",
       "4   REDMI Note 12 Pro 5G (Stardust Purple, 256 GB)  26999"
      ]
     },
     "execution_count": 19,
     "metadata": {},
     "output_type": "execute_result"
    }
   ],
   "source": [
    "df.head(5)"
   ]
  },
  {
   "cell_type": "code",
   "execution_count": 20,
   "id": "ade2b2a8",
   "metadata": {},
   "outputs": [],
   "source": [
    "# lets remove the features from the mobile names\n",
    "def preprocess(data):\n",
    "    l=[]\n",
    "    for i in data:\n",
    "        if i == '(':\n",
    "            break\n",
    "        else :\n",
    "            l.append(i)\n",
    "    return ''.join(l)"
   ]
  },
  {
   "cell_type": "code",
   "execution_count": 21,
   "id": "0b600079",
   "metadata": {},
   "outputs": [],
   "source": [
    "df['Mobile'] = df['Mobile'].apply(lambda x: preprocess(x))"
   ]
  },
  {
   "cell_type": "code",
   "execution_count": 22,
   "id": "5192b423",
   "metadata": {},
   "outputs": [
    {
     "data": {
      "text/html": [
       "<div>\n",
       "<style scoped>\n",
       "    .dataframe tbody tr th:only-of-type {\n",
       "        vertical-align: middle;\n",
       "    }\n",
       "\n",
       "    .dataframe tbody tr th {\n",
       "        vertical-align: top;\n",
       "    }\n",
       "\n",
       "    .dataframe thead th {\n",
       "        text-align: right;\n",
       "    }\n",
       "</style>\n",
       "<table border=\"1\" class=\"dataframe\">\n",
       "  <thead>\n",
       "    <tr style=\"text-align: right;\">\n",
       "      <th></th>\n",
       "      <th>Mobile</th>\n",
       "      <th>Price</th>\n",
       "    </tr>\n",
       "  </thead>\n",
       "  <tbody>\n",
       "    <tr>\n",
       "      <th>0</th>\n",
       "      <td>SAMSUNG Galaxy M33 5G</td>\n",
       "      <td>17400</td>\n",
       "    </tr>\n",
       "    <tr>\n",
       "      <th>1</th>\n",
       "      <td>SAMSUNG Galaxy M33 5G</td>\n",
       "      <td>17379</td>\n",
       "    </tr>\n",
       "    <tr>\n",
       "      <th>2</th>\n",
       "      <td>REDMI Note 12 Pro 5G</td>\n",
       "      <td>23999</td>\n",
       "    </tr>\n",
       "    <tr>\n",
       "      <th>3</th>\n",
       "      <td>SAMSUNG Galaxy S20 FE 5G</td>\n",
       "      <td>28464</td>\n",
       "    </tr>\n",
       "    <tr>\n",
       "      <th>4</th>\n",
       "      <td>REDMI Note 12 Pro 5G</td>\n",
       "      <td>26999</td>\n",
       "    </tr>\n",
       "    <tr>\n",
       "      <th>5</th>\n",
       "      <td>REDMI Note 12 Pro+ 5G</td>\n",
       "      <td>29999</td>\n",
       "    </tr>\n",
       "    <tr>\n",
       "      <th>6</th>\n",
       "      <td>realme 10 Pro+ 5G</td>\n",
       "      <td>25999</td>\n",
       "    </tr>\n",
       "    <tr>\n",
       "      <th>7</th>\n",
       "      <td>realme 10 Pro+ 5G</td>\n",
       "      <td>25999</td>\n",
       "    </tr>\n",
       "    <tr>\n",
       "      <th>8</th>\n",
       "      <td>REDMI Note 12 Pro+ 5G</td>\n",
       "      <td>29999</td>\n",
       "    </tr>\n",
       "    <tr>\n",
       "      <th>9</th>\n",
       "      <td>REDMI Note 12 Pro 5G</td>\n",
       "      <td>24999</td>\n",
       "    </tr>\n",
       "  </tbody>\n",
       "</table>\n",
       "</div>"
      ],
      "text/plain": [
       "                      Mobile  Price\n",
       "0     SAMSUNG Galaxy M33 5G   17400\n",
       "1     SAMSUNG Galaxy M33 5G   17379\n",
       "2      REDMI Note 12 Pro 5G   23999\n",
       "3  SAMSUNG Galaxy S20 FE 5G   28464\n",
       "4      REDMI Note 12 Pro 5G   26999\n",
       "5     REDMI Note 12 Pro+ 5G   29999\n",
       "6         realme 10 Pro+ 5G   25999\n",
       "7         realme 10 Pro+ 5G   25999\n",
       "8     REDMI Note 12 Pro+ 5G   29999\n",
       "9      REDMI Note 12 Pro 5G   24999"
      ]
     },
     "execution_count": 22,
     "metadata": {},
     "output_type": "execute_result"
    }
   ],
   "source": [
    "df.head(10)"
   ]
  },
  {
   "cell_type": "code",
   "execution_count": 23,
   "id": "29fefb6d",
   "metadata": {},
   "outputs": [],
   "source": [
    "df.to_csv(\"mobile_data.csv\")"
   ]
  },
  {
   "cell_type": "code",
   "execution_count": null,
   "id": "c837fc51",
   "metadata": {},
   "outputs": [],
   "source": []
  }
 ],
 "metadata": {
  "kernelspec": {
   "display_name": "Python 3 (ipykernel)",
   "language": "python",
   "name": "python3"
  },
  "language_info": {
   "codemirror_mode": {
    "name": "ipython",
    "version": 3
   },
   "file_extension": ".py",
   "mimetype": "text/x-python",
   "name": "python",
   "nbconvert_exporter": "python",
   "pygments_lexer": "ipython3",
   "version": "3.9.12"
  }
 },
 "nbformat": 4,
 "nbformat_minor": 5
}
